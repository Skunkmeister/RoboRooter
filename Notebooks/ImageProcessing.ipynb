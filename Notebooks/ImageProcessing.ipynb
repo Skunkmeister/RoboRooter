{
 "cells": [
  {
   "cell_type": "code",
   "execution_count": 31,
   "id": "a49e24ca",
   "metadata": {},
   "outputs": [],
   "source": [
    "from ultralytics import YOLO\n",
    "import numpy as np\n",
    "from PIL import Image\n",
    "\n",
    "img2D = np.asarray(Image.open('../../../image.jpg'))\n",
    "model = YOLO('yolov8x-seg.pt')\n",
    "decreaseByProbability = True"
   ]
  },
  {
   "cell_type": "code",
   "execution_count": 37,
   "id": "b4eba6f3",
   "metadata": {},
   "outputs": [],
   "source": [
    "import numpy as np\n",
    "from PIL import Image\n",
    "def detectObjects(img2D, model, decreaseByProbability):\n",
    "    results = model.predict(source=img2D, conf=0.01, show_labels=False, save = True)\n",
    "    costmap = np.ones((img2D.shape[0], img2D.shape[1]))\n",
    "    \n",
    "    numberOfBoxes = results[0].boxes.shape[0]\n",
    "    boxes = results[0].boxes.numpy()\n",
    "    probabilities = boxes.conf\n",
    "    \n",
    "    for box in range(numberOfBoxes):\n",
    "        currBox = boxes.xyxy[box]\n",
    "        x1 = currBox[0].astype(int)\n",
    "        x2 = currBox[2].astype(int)\n",
    "        y1 = currBox[1].astype(int)\n",
    "        y2 = currBox[3].astype(int)\n",
    "        \n",
    "        mask = results[0].masks.data.numpy()[box]\n",
    "\n",
    "        if decreaseByProbability:\n",
    "            decreaseAmount = probabilities[box]\n",
    "        else:\n",
    "            decreaseAmount = 1\n",
    "\n",
    "        for x in range(x1, x2 + 1):\n",
    "            for y in range(y1, y2 + 1):\n",
    "                maskX = x / results[0].orig_shape[1] * results[0].masks.shape[2]\n",
    "                maskY = y / results[0].orig_shape[0] * results[0].masks.shape[1]\n",
    "                \n",
    "                if mask[int(maskY)][int(maskX)] == 1:\n",
    "                    costmap[y][x] = max(costmap[y][x] - decreaseAmount, 0)\n",
    "                \n",
    "    return costmap"
   ]
  },
  {
   "cell_type": "code",
   "execution_count": 38,
   "id": "a76fb1be",
   "metadata": {},
   "outputs": [
    {
     "name": "stdout",
     "output_type": "stream",
     "text": [
      "\n",
      "0: 448x640 1 tie, 3044.9ms\n",
      "Speed: 2.6ms preprocess, 3044.9ms inference, 4.3ms postprocess per image at shape (1, 3, 448, 640)\n",
      "Results saved to \u001b[1mruns/segment/predict8\u001b[0m\n"
     ]
    }
   ],
   "source": [
    "costmapResult = detectObjects(img2D, model, decreaseByProbability)"
   ]
  },
  {
   "cell_type": "code",
   "execution_count": 39,
   "id": "a91b84d5",
   "metadata": {},
   "outputs": [],
   "source": [
    "image = Image.fromarray(costmapResult * 255).convert(\"L\")\n",
    "image.save(\"costmap.png\")"
   ]
  },
  {
   "cell_type": "code",
   "execution_count": null,
   "id": "ebc5d4de",
   "metadata": {},
   "outputs": [],
   "source": []
  }
 ],
 "metadata": {
  "kernelspec": {
   "display_name": "Python 3.8",
   "language": "python",
   "name": "py3.8"
  },
  "language_info": {
   "codemirror_mode": {
    "name": "ipython",
    "version": 3
   },
   "file_extension": ".py",
   "mimetype": "text/x-python",
   "name": "python",
   "nbconvert_exporter": "python",
   "pygments_lexer": "ipython3",
   "version": "3.8.0"
  }
 },
 "nbformat": 4,
 "nbformat_minor": 5
}
