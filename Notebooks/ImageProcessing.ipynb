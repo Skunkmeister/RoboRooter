{
 "cells": [
  {
   "cell_type": "code",
   "execution_count": 17,
   "id": "a49e24ca",
   "metadata": {},
   "outputs": [],
   "source": [
    "from ultralytics import YOLO\n",
    "import numpy as np\n",
    "from PIL import Image\n",
    "\n",
    "img2D = np.asarray(Image.open('../floor2.jpg'))\n",
    "model = YOLO('yolov8x-seg.pt')\n",
    "decreaseByProbability = True"
   ]
  },
  {
   "cell_type": "code",
   "execution_count": 19,
   "id": "b4eba6f3",
   "metadata": {},
   "outputs": [],
   "source": [
    "import numpy as np\n",
    "from PIL import Image\n",
    "\n",
    "def detectObjects(img2D, model, decreaseByProbability):\n",
    "    results = model.predict(source=img2D, conf=0.01)\n",
    "    costmap = np.ones((img2D.shape[0], img2D.shape[1]))\n",
    "    \n",
    "    numberOfBoxes = results[0].boxes.shape[0]\n",
    "    boxes = results[0].boxes.numpy()\n",
    "    probabilities = boxes.conf\n",
    "    \n",
    "    for box in range(numberOfBoxes):\n",
    "        currBox = boxes.xyxy[box]\n",
    "        x1 = currBox[0].astype(int)\n",
    "        x2 = currBox[2].astype(int)\n",
    "        y1 = currBox[1].astype(int)\n",
    "        y2 = currBox[3].astype(int)\n",
    "\n",
    "        if decreaseByProbability:\n",
    "            decreaseAmount = probabilities[box]\n",
    "        else:\n",
    "            decreaseAmount = 1\n",
    "\n",
    "        for x in range(x1, x2 + 1):\n",
    "            for y in range(y1, y2 + 1):\n",
    "                costmap[y][x] -= decreaseAmount\n",
    "                \n",
    "    return costmap"
   ]
  },
  {
   "cell_type": "code",
   "execution_count": 20,
   "id": "a76fb1be",
   "metadata": {},
   "outputs": [
    {
     "name": "stdout",
     "output_type": "stream",
     "text": [
      "\n",
      "0: 640x480 1 knife, 2 cell phones, 9003.2ms\n",
      "Speed: 846.9ms preprocess, 9003.2ms inference, 343.7ms postprocess per image at shape (1, 3, 640, 480)\n"
     ]
    }
   ],
   "source": [
    "costmapResult = detectObjects(img2D, model, decreaseByProbability)"
   ]
  },
  {
   "cell_type": "code",
   "execution_count": 21,
   "id": "a91b84d5",
   "metadata": {},
   "outputs": [],
   "source": [
    "image = Image.fromarray(costmapResult * 255).convert(\"L\")\n",
    "image.save(\"costmap.png\")"
   ]
  },
  {
   "cell_type": "code",
   "execution_count": null,
   "id": "3d12796a",
   "metadata": {},
   "outputs": [],
   "source": []
  }
 ],
 "metadata": {
  "kernelspec": {
   "display_name": "Python 3 (ipykernel)",
   "language": "python",
   "name": "python3"
  },
  "language_info": {
   "codemirror_mode": {
    "name": "ipython",
    "version": 3
   },
   "file_extension": ".py",
   "mimetype": "text/x-python",
   "name": "python",
   "nbconvert_exporter": "python",
   "pygments_lexer": "ipython3",
   "version": "3.8.0"
  }
 },
 "nbformat": 4,
 "nbformat_minor": 5
}
