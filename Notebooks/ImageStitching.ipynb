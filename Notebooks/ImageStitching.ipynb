{
 "cells": [
  {
   "cell_type": "markdown",
   "metadata": {},
   "source": [
    "- Load Kalman Data\n",
    "- Load Video\n",
    "- Align Timestamps\\\n",
    "- align \"0\" distance from ground plane on kalman\\\n",
    "- For each frame in video, let POS = closest kalman timestep\\\n",
    "- project points from \"depth\" where depth is render of ground plane - to test this, produce video of ground plane from phone orientation\\\n",
    "- rotate pointcloud and render from above\n",
    "- use SIFT to transform it into relative position of first image\n",
    "\n"
   ]
  },
  {
   "cell_type": "code",
   "execution_count": 13,
   "metadata": {},
   "outputs": [],
   "source": [
    "import os\n",
    "import cv2\n",
    "import numpy as np\n",
    "import cupy as cp\n",
    "from ultralytics import YOLO\n",
    "import matplotlib.pyplot as plt\n",
    "import sys\n",
    "from PIL import Image\n",
    "from importlib import reload\n",
    "import pandas as pd\n",
    "import plotly.express as px\n",
    "from filterpy.kalman import KalmanFilter\n",
    "import gdown\n",
    "import zipfile\n",
    "\n",
    "sys.path.insert(1, '..')\n",
    "os.environ[\"OPENCV_IO_ENABLE_OPENEXR\"] = \"1\""
   ]
  },
  {
   "cell_type": "code",
   "execution_count": 14,
   "metadata": {},
   "outputs": [],
   "source": [
    "files = {\n",
    "    'walk_to_malachowski' : 'https://drive.google.com/file/d/1EejwRl80fnWIlh9l_YjYTrjQb3d7mMSR/view?usp=drive_link',\n",
    "    'walk_down_parking_lot' : 'https://drive.google.com/file/d/1RtRjmR7ggn5DgyxNK6mGkihZY-g9NyCq/view?usp=drive_link',\n",
    "    'malachowski_chamomile' : 'https://drive.google.com/file/d/1V28HPGOMnI-l-GiAFGB5xzt0YajLtwMU/view?usp=drive_link',\n",
    "    'malachowski_chamomile_2' : 'https://drive.google.com/file/d/1JD9SI-bM44BPeG2frwaznO2Fq97BAmUM/view?usp=drive_link',\n",
    "    'first_test_walk' : 'https://drive.google.com/file/d/1u7FCFc4uaZscHvZ6wH9wU2pb_Mz9djPF/view?usp=drive_link'\n",
    "}\n",
    "\n",
    "def convert_to_direct_download(gdrive_link):\n",
    "    start = gdrive_link.find('/d/') + 3\n",
    "    end = gdrive_link.find('/view', start)\n",
    "    file_id = gdrive_link[start:end]\n",
    "\n",
    "    direct_download_url = f'https://drive.google.com/uc?id={file_id}&export=download'\n",
    "\n",
    "    return direct_download_url"
   ]
  },
  {
   "cell_type": "code",
   "execution_count": 15,
   "metadata": {},
   "outputs": [
    {
     "name": "stderr",
     "output_type": "stream",
     "text": [
      "Downloading...\n",
      "From (original): https://drive.google.com/uc?id=1EejwRl80fnWIlh9l_YjYTrjQb3d7mMSR&export=download\n",
      "From (redirected): https://drive.google.com/uc?id=1EejwRl80fnWIlh9l_YjYTrjQb3d7mMSR&export=download&confirm=t&uuid=50641b51-3d48-4cb3-83db-8246105f3ab6\n",
      "To: c:\\Users\\c1a55\\Documents\\Roborouter\\Notebooks\\of.zip\n",
      "100%|██████████| 536M/536M [00:10<00:00, 52.3MB/s] \n"
     ]
    }
   ],
   "source": [
    "# @title Selected File\n",
    "selected = \"walk_to_malachowski\" # @param [\"malachowski_chamomile\", \"malachowski_chamomile_2\", \"walk_to_malachowski\", \"first_test_walk\", \"walk_down_parking_lot\"]\n",
    "\n",
    "url = convert_to_direct_download(files[selected])\n",
    "gdown.download(url, \"of.zip\")\n",
    "with zipfile.ZipFile(\"./of.zip\", 'r') as zip_ref:\n",
    "    zip_ref.extractall(\"../Data/\")"
   ]
  },
  {
   "cell_type": "code",
   "execution_count": 18,
   "metadata": {},
   "outputs": [
    {
     "name": "stdout",
     "output_type": "stream",
     "text": [
      "c:\\Users\\c1a55\\Documents\\Roborouter\\data\n",
      "c:\\Users\\c1a55\\Documents\\Roborouter\\data\\walk_to_malachowski\n"
     ]
    }
   ],
   "source": [
    "%cd ../data/\n",
    "%cd $selected"
   ]
  },
  {
   "cell_type": "code",
   "execution_count": 20,
   "metadata": {},
   "outputs": [],
   "source": [
    "AccelerometerDF = pd.read_csv('Accelerometer.csv')\n",
    "#zyx\n",
    "\n",
    "BarometerDF = pd.read_csv('Barometer.csv')\n",
    "#relativeAltitude\n",
    "#pressure\n",
    "\n",
    "#Highly prefused, but not with accel or baro\n",
    "LocationDF = pd.read_csv('Location.csv')\n",
    "#altitude\n",
    "#speedAccuracy\n",
    "#bearingAccuracy\n",
    "#latitude\n",
    "#altitudeAboveMeanSaLevel\n",
    "#bearing\n",
    "#horizontalAccuracy\n",
    "#verticalAccuracy\n",
    "#longitude\n",
    "#speed\n",
    "\n",
    "#Don't care, prefused into orientation\n",
    "#MagnetometerDF = pd.read_csv('Magnetometer.csv')\n",
    "#zyx\n",
    "\n",
    "#To be used for synchronization\n",
    "MicrophoneDF = pd.read_csv('Microphone.csv')\n",
    "#dBFS\n",
    "\n",
    "#Prefused = best guess. Smoothing welcomed.\n",
    "OrientationDF = pd.read_csv('Orientation.csv')\n",
    "#yaw\n",
    "#qx\n",
    "#qz\n",
    "#roll\n",
    "#qw\n",
    "#qy\n",
    "#pitch"
   ]
  },
  {
   "cell_type": "code",
   "execution_count": 23,
   "metadata": {},
   "outputs": [],
   "source": [
    "from scipy.spatial.transform import Rotation as R\n",
    "pi = np.pi\n",
    "\n",
    "def convert_xyz_acceleration_to_ENU(ax, ay, az, qw, qx, qy, qz):\n",
    "  Rquat = R.from_quat([qw, qx, qy, qz])\n",
    "  rotation_matrix = Rquat.as_matrix()\n",
    "  inv = rotation_matrix.T\n",
    "  result = inv @ [ax, ay, az]\n",
    "  return result\n"
   ]
  },
  {
   "cell_type": "code",
   "execution_count": 24,
   "metadata": {},
   "outputs": [
    {
     "ename": "ValueError",
     "evalue": "Mime type rendering requires nbformat>=4.2.0 but it is not installed",
     "output_type": "error",
     "traceback": [
      "\u001b[1;31m---------------------------------------------------------------------------\u001b[0m",
      "\u001b[1;31mValueError\u001b[0m                                Traceback (most recent call last)",
      "Cell \u001b[1;32mIn[24], line 52\u001b[0m\n\u001b[0;32m     45\u001b[0m int_location_df \u001b[38;5;241m=\u001b[39m integrate_acceleration_to_position(ENUAccelDF, \u001b[38;5;241m.01\u001b[39m)\n\u001b[0;32m     46\u001b[0m fig \u001b[38;5;241m=\u001b[39m px\u001b[38;5;241m.\u001b[39mline_3d(\n\u001b[0;32m     47\u001b[0m     int_location_df,\n\u001b[0;32m     48\u001b[0m     x\u001b[38;5;241m=\u001b[39mint_location_df[\u001b[38;5;124m'\u001b[39m\u001b[38;5;124mnorth\u001b[39m\u001b[38;5;124m'\u001b[39m],\n\u001b[0;32m     49\u001b[0m     y\u001b[38;5;241m=\u001b[39mint_location_df[\u001b[38;5;124m'\u001b[39m\u001b[38;5;124meast\u001b[39m\u001b[38;5;124m'\u001b[39m],\n\u001b[0;32m     50\u001b[0m     z\u001b[38;5;241m=\u001b[39mint_location_df[\u001b[38;5;124m'\u001b[39m\u001b[38;5;124mup\u001b[39m\u001b[38;5;124m'\u001b[39m]\n\u001b[0;32m     51\u001b[0m )\n\u001b[1;32m---> 52\u001b[0m \u001b[43mfig\u001b[49m\u001b[38;5;241;43m.\u001b[39;49m\u001b[43mshow\u001b[49m\u001b[43m(\u001b[49m\u001b[43m)\u001b[49m\n",
      "File \u001b[1;32mc:\\Users\\c1a55\\Documents\\Roborouter\\.conda\\lib\\site-packages\\plotly\\basedatatypes.py:3410\u001b[0m, in \u001b[0;36mBaseFigure.show\u001b[1;34m(self, *args, **kwargs)\u001b[0m\n\u001b[0;32m   3377\u001b[0m \u001b[38;5;250m\u001b[39m\u001b[38;5;124;03m\"\"\"\u001b[39;00m\n\u001b[0;32m   3378\u001b[0m \u001b[38;5;124;03mShow a figure using either the default renderer(s) or the renderer(s)\u001b[39;00m\n\u001b[0;32m   3379\u001b[0m \u001b[38;5;124;03mspecified by the renderer argument\u001b[39;00m\n\u001b[1;32m   (...)\u001b[0m\n\u001b[0;32m   3406\u001b[0m \u001b[38;5;124;03mNone\u001b[39;00m\n\u001b[0;32m   3407\u001b[0m \u001b[38;5;124;03m\"\"\"\u001b[39;00m\n\u001b[0;32m   3408\u001b[0m \u001b[38;5;28;01mimport\u001b[39;00m \u001b[38;5;21;01mplotly\u001b[39;00m\u001b[38;5;21;01m.\u001b[39;00m\u001b[38;5;21;01mio\u001b[39;00m \u001b[38;5;28;01mas\u001b[39;00m \u001b[38;5;21;01mpio\u001b[39;00m\n\u001b[1;32m-> 3410\u001b[0m \u001b[38;5;28;01mreturn\u001b[39;00m \u001b[43mpio\u001b[49m\u001b[38;5;241;43m.\u001b[39;49m\u001b[43mshow\u001b[49m\u001b[43m(\u001b[49m\u001b[38;5;28;43mself\u001b[39;49m\u001b[43m,\u001b[49m\u001b[43m \u001b[49m\u001b[38;5;241;43m*\u001b[39;49m\u001b[43margs\u001b[49m\u001b[43m,\u001b[49m\u001b[43m \u001b[49m\u001b[38;5;241;43m*\u001b[39;49m\u001b[38;5;241;43m*\u001b[39;49m\u001b[43mkwargs\u001b[49m\u001b[43m)\u001b[49m\n",
      "File \u001b[1;32mc:\\Users\\c1a55\\Documents\\Roborouter\\.conda\\lib\\site-packages\\plotly\\io\\_renderers.py:394\u001b[0m, in \u001b[0;36mshow\u001b[1;34m(fig, renderer, validate, **kwargs)\u001b[0m\n\u001b[0;32m    389\u001b[0m         \u001b[38;5;28;01mraise\u001b[39;00m \u001b[38;5;167;01mValueError\u001b[39;00m(\n\u001b[0;32m    390\u001b[0m             \u001b[38;5;124m\"\u001b[39m\u001b[38;5;124mMime type rendering requires ipython but it is not installed\u001b[39m\u001b[38;5;124m\"\u001b[39m\n\u001b[0;32m    391\u001b[0m         )\n\u001b[0;32m    393\u001b[0m     \u001b[38;5;28;01mif\u001b[39;00m \u001b[38;5;129;01mnot\u001b[39;00m nbformat \u001b[38;5;129;01mor\u001b[39;00m Version(nbformat\u001b[38;5;241m.\u001b[39m__version__) \u001b[38;5;241m<\u001b[39m Version(\u001b[38;5;124m\"\u001b[39m\u001b[38;5;124m4.2.0\u001b[39m\u001b[38;5;124m\"\u001b[39m):\n\u001b[1;32m--> 394\u001b[0m         \u001b[38;5;28;01mraise\u001b[39;00m \u001b[38;5;167;01mValueError\u001b[39;00m(\n\u001b[0;32m    395\u001b[0m             \u001b[38;5;124m\"\u001b[39m\u001b[38;5;124mMime type rendering requires nbformat>=4.2.0 but it is not installed\u001b[39m\u001b[38;5;124m\"\u001b[39m\n\u001b[0;32m    396\u001b[0m         )\n\u001b[0;32m    398\u001b[0m     ipython_display\u001b[38;5;241m.\u001b[39mdisplay(bundle, raw\u001b[38;5;241m=\u001b[39m\u001b[38;5;28;01mTrue\u001b[39;00m)\n\u001b[0;32m    400\u001b[0m \u001b[38;5;66;03m# external renderers\u001b[39;00m\n",
      "\u001b[1;31mValueError\u001b[0m: Mime type rendering requires nbformat>=4.2.0 but it is not installed"
     ]
    }
   ],
   "source": [
    "#Preprocessing the accelerations into ENU accelerations using the phone rotation:\n",
    "import pandas as pd\n",
    "import numpy as np\n",
    "from scipy.spatial.transform import Rotation as R\n",
    "\n",
    "def convert_accelerations(accel_df, orient_df):\n",
    "    # Initialize an empty DataFrame to store the converted accelerations\n",
    "    converted_accelerations = pd.DataFrame(accel_df)\n",
    "    converted_accelerations.drop(axis='columns', columns=['time', 'seconds_elapsed'], inplace=True)\n",
    "    converted_accelerations.rename(\n",
    "        mapper = {'z':'east', 'y':'north', 'x':'up'},\n",
    "        axis='columns',\n",
    "        inplace=True\n",
    "    )\n",
    "\n",
    "    for i in range(len(accel_df)):\n",
    "        # Create a rotation object from the roll, pitch, and yaw\n",
    "        qw = orient_df.iloc[i][\"qw\"]\n",
    "        qx = orient_df.iloc[i][\"qx\"]\n",
    "        qy = orient_df.iloc[i][\"qy\"]\n",
    "        qz = orient_df.iloc[i][\"qz\"]\n",
    "\n",
    "        # Apply the rotation to the acceleration vector\n",
    "        north, east, up = convert_xyz_acceleration_to_ENU(ax, ay, az, qw, qx, qy, qz)\n",
    "\n",
    "        # Append the converted acceleration to the DataFrame\n",
    "        converted_accelerations.iloc[i] = [east, north, up]\n",
    "\n",
    "    return converted_accelerations\n",
    "\n",
    "ENUAccelDF = convert_accelerations(AccelerometerDF, OrientationDF)\n",
    "\n",
    "\n",
    "def integrate_acceleration_to_position(accel_df, delta_t=1):\n",
    "    velocity_df = pd.DataFrame(np.zeros_like(accel_df.values), columns=['east', 'north', 'up'])\n",
    "    position_df = pd.DataFrame(np.zeros_like(accel_df.values), columns=['east', 'north', 'up'])\n",
    "\n",
    "    # Integrate acceleration to get velocity and position\n",
    "    for i in range(1, len(accel_df)):\n",
    "        velocity_df.iloc[i] = velocity_df.iloc[i - 1] + accel_df.iloc[i] * delta_t\n",
    "        position_df.iloc[i] = position_df.iloc[i - 1] + velocity_df.iloc[i] * delta_t\n",
    "\n",
    "    return position_df\n",
    "\n",
    "int_location_df = integrate_acceleration_to_position(ENUAccelDF, .01)\n",
    "fig = px.line_3d(\n",
    "    int_location_df,\n",
    "    x=int_location_df['north'],\n",
    "    y=int_location_df['east'],\n",
    "    z=int_location_df['up']\n",
    ")\n",
    "fig.show()"
   ]
  }
 ],
 "metadata": {
  "kernelspec": {
   "display_name": "Python 3",
   "language": "python",
   "name": "python3"
  },
  "language_info": {
   "codemirror_mode": {
    "name": "ipython",
    "version": 3
   },
   "file_extension": ".py",
   "mimetype": "text/x-python",
   "name": "python",
   "nbconvert_exporter": "python",
   "pygments_lexer": "ipython3",
   "version": "3.8.19"
  }
 },
 "nbformat": 4,
 "nbformat_minor": 2
}
